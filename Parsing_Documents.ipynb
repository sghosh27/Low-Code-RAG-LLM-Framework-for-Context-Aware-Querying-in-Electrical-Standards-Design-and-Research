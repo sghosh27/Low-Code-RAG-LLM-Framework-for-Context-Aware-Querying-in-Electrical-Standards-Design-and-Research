{
  "nbformat": 4,
  "nbformat_minor": 0,
  "metadata": {
    "colab": {
      "provenance": [],
      "machine_shape": "hm",
      "gpuType": "V28"
    },
    "kernelspec": {
      "name": "python3",
      "display_name": "Python 3"
    },
    "language_info": {
      "name": "python"
    },
    "accelerator": "TPU"
  },
  "cells": [
    {
      "cell_type": "code",
      "execution_count": null,
      "metadata": {
        "colab": {
          "base_uri": "https://localhost:8080/"
        },
        "id": "1lzodUsAln6-",
        "outputId": "8c3be548-cde8-40ee-bf52-8fa5b3d4c7ef"
      },
      "outputs": [
        {
          "output_type": "stream",
          "name": "stdout",
          "text": [
            "Requirement already satisfied: llama-parse in /usr/local/lib/python3.11/dist-packages (0.6.35)\n",
            "Requirement already satisfied: llama-cloud-services>=0.6.35 in /usr/local/lib/python3.11/dist-packages (from llama-parse) (0.6.35)\n",
            "Requirement already satisfied: click<9.0.0,>=8.1.7 in /usr/local/lib/python3.11/dist-packages (from llama-cloud-services>=0.6.35->llama-parse) (8.2.1)\n",
            "Requirement already satisfied: llama-cloud==0.1.27 in /usr/local/lib/python3.11/dist-packages (from llama-cloud-services>=0.6.35->llama-parse) (0.1.27)\n",
            "Requirement already satisfied: llama-index-core>=0.12.0 in /usr/local/lib/python3.11/dist-packages (from llama-cloud-services>=0.6.35->llama-parse) (0.12.43)\n",
            "Requirement already satisfied: platformdirs<5.0.0,>=4.3.7 in /usr/local/lib/python3.11/dist-packages (from llama-cloud-services>=0.6.35->llama-parse) (4.3.8)\n",
            "Requirement already satisfied: pydantic!=2.10,>=2.8 in /usr/local/lib/python3.11/dist-packages (from llama-cloud-services>=0.6.35->llama-parse) (2.11.7)\n",
            "Requirement already satisfied: python-dotenv<2.0.0,>=1.0.1 in /usr/local/lib/python3.11/dist-packages (from llama-cloud-services>=0.6.35->llama-parse) (1.1.0)\n",
            "Requirement already satisfied: certifi>=2024.7.4 in /usr/local/lib/python3.11/dist-packages (from llama-cloud==0.1.27->llama-cloud-services>=0.6.35->llama-parse) (2025.6.15)\n",
            "Requirement already satisfied: httpx>=0.20.0 in /usr/local/lib/python3.11/dist-packages (from llama-cloud==0.1.27->llama-cloud-services>=0.6.35->llama-parse) (0.28.1)\n",
            "Requirement already satisfied: aiohttp<4,>=3.8.6 in /usr/local/lib/python3.11/dist-packages (from llama-index-core>=0.12.0->llama-cloud-services>=0.6.35->llama-parse) (3.11.15)\n",
            "Requirement already satisfied: aiosqlite in /usr/local/lib/python3.11/dist-packages (from llama-index-core>=0.12.0->llama-cloud-services>=0.6.35->llama-parse) (0.21.0)\n",
            "Requirement already satisfied: banks<3,>=2.0.0 in /usr/local/lib/python3.11/dist-packages (from llama-index-core>=0.12.0->llama-cloud-services>=0.6.35->llama-parse) (2.1.2)\n",
            "Requirement already satisfied: dataclasses-json in /usr/local/lib/python3.11/dist-packages (from llama-index-core>=0.12.0->llama-cloud-services>=0.6.35->llama-parse) (0.6.7)\n",
            "Requirement already satisfied: deprecated>=1.2.9.3 in /usr/local/lib/python3.11/dist-packages (from llama-index-core>=0.12.0->llama-cloud-services>=0.6.35->llama-parse) (1.2.18)\n",
            "Requirement already satisfied: dirtyjson<2,>=1.0.8 in /usr/local/lib/python3.11/dist-packages (from llama-index-core>=0.12.0->llama-cloud-services>=0.6.35->llama-parse) (1.0.8)\n",
            "Requirement already satisfied: filetype<2,>=1.2.0 in /usr/local/lib/python3.11/dist-packages (from llama-index-core>=0.12.0->llama-cloud-services>=0.6.35->llama-parse) (1.2.0)\n",
            "Requirement already satisfied: fsspec>=2023.5.0 in /usr/local/lib/python3.11/dist-packages (from llama-index-core>=0.12.0->llama-cloud-services>=0.6.35->llama-parse) (2025.5.1)\n",
            "Requirement already satisfied: llama-index-workflows>=0.2.1 in /usr/local/lib/python3.11/dist-packages (from llama-index-core>=0.12.0->llama-cloud-services>=0.6.35->llama-parse) (0.2.2)\n",
            "Requirement already satisfied: nest-asyncio<2,>=1.5.8 in /usr/local/lib/python3.11/dist-packages (from llama-index-core>=0.12.0->llama-cloud-services>=0.6.35->llama-parse) (1.6.0)\n",
            "Requirement already satisfied: networkx>=3.0 in /usr/local/lib/python3.11/dist-packages (from llama-index-core>=0.12.0->llama-cloud-services>=0.6.35->llama-parse) (3.5)\n",
            "Requirement already satisfied: nltk>3.8.1 in /usr/local/lib/python3.11/dist-packages (from llama-index-core>=0.12.0->llama-cloud-services>=0.6.35->llama-parse) (3.9.1)\n",
            "Requirement already satisfied: numpy in /usr/local/lib/python3.11/dist-packages (from llama-index-core>=0.12.0->llama-cloud-services>=0.6.35->llama-parse) (2.0.2)\n",
            "Requirement already satisfied: pillow>=9.0.0 in /usr/local/lib/python3.11/dist-packages (from llama-index-core>=0.12.0->llama-cloud-services>=0.6.35->llama-parse) (11.2.1)\n",
            "Requirement already satisfied: pyyaml>=6.0.1 in /usr/local/lib/python3.11/dist-packages (from llama-index-core>=0.12.0->llama-cloud-services>=0.6.35->llama-parse) (6.0.2)\n",
            "Requirement already satisfied: requests>=2.31.0 in /usr/local/lib/python3.11/dist-packages (from llama-index-core>=0.12.0->llama-cloud-services>=0.6.35->llama-parse) (2.32.3)\n",
            "Requirement already satisfied: setuptools>=80.9.0 in /usr/local/lib/python3.11/dist-packages (from llama-index-core>=0.12.0->llama-cloud-services>=0.6.35->llama-parse) (80.9.0)\n",
            "Requirement already satisfied: sqlalchemy>=1.4.49 in /usr/local/lib/python3.11/dist-packages (from sqlalchemy[asyncio]>=1.4.49->llama-index-core>=0.12.0->llama-cloud-services>=0.6.35->llama-parse) (2.0.41)\n",
            "Requirement already satisfied: tenacity!=8.4.0,<10.0.0,>=8.2.0 in /usr/local/lib/python3.11/dist-packages (from llama-index-core>=0.12.0->llama-cloud-services>=0.6.35->llama-parse) (9.1.2)\n",
            "Requirement already satisfied: tiktoken>=0.7.0 in /usr/local/lib/python3.11/dist-packages (from llama-index-core>=0.12.0->llama-cloud-services>=0.6.35->llama-parse) (0.9.0)\n",
            "Requirement already satisfied: tqdm<5,>=4.66.1 in /usr/local/lib/python3.11/dist-packages (from llama-index-core>=0.12.0->llama-cloud-services>=0.6.35->llama-parse) (4.67.1)\n",
            "Requirement already satisfied: typing-extensions>=4.5.0 in /usr/local/lib/python3.11/dist-packages (from llama-index-core>=0.12.0->llama-cloud-services>=0.6.35->llama-parse) (4.14.0)\n",
            "Requirement already satisfied: typing-inspect>=0.8.0 in /usr/local/lib/python3.11/dist-packages (from llama-index-core>=0.12.0->llama-cloud-services>=0.6.35->llama-parse) (0.9.0)\n",
            "Requirement already satisfied: wrapt in /usr/local/lib/python3.11/dist-packages (from llama-index-core>=0.12.0->llama-cloud-services>=0.6.35->llama-parse) (1.17.2)\n",
            "Requirement already satisfied: annotated-types>=0.6.0 in /usr/local/lib/python3.11/dist-packages (from pydantic!=2.10,>=2.8->llama-cloud-services>=0.6.35->llama-parse) (0.7.0)\n",
            "Requirement already satisfied: pydantic-core==2.33.2 in /usr/local/lib/python3.11/dist-packages (from pydantic!=2.10,>=2.8->llama-cloud-services>=0.6.35->llama-parse) (2.33.2)\n",
            "Requirement already satisfied: typing-inspection>=0.4.0 in /usr/local/lib/python3.11/dist-packages (from pydantic!=2.10,>=2.8->llama-cloud-services>=0.6.35->llama-parse) (0.4.1)\n",
            "Requirement already satisfied: aiohappyeyeballs>=2.3.0 in /usr/local/lib/python3.11/dist-packages (from aiohttp<4,>=3.8.6->llama-index-core>=0.12.0->llama-cloud-services>=0.6.35->llama-parse) (2.6.1)\n",
            "Requirement already satisfied: aiosignal>=1.1.2 in /usr/local/lib/python3.11/dist-packages (from aiohttp<4,>=3.8.6->llama-index-core>=0.12.0->llama-cloud-services>=0.6.35->llama-parse) (1.3.2)\n",
            "Requirement already satisfied: attrs>=17.3.0 in /usr/local/lib/python3.11/dist-packages (from aiohttp<4,>=3.8.6->llama-index-core>=0.12.0->llama-cloud-services>=0.6.35->llama-parse) (25.3.0)\n",
            "Requirement already satisfied: frozenlist>=1.1.1 in /usr/local/lib/python3.11/dist-packages (from aiohttp<4,>=3.8.6->llama-index-core>=0.12.0->llama-cloud-services>=0.6.35->llama-parse) (1.7.0)\n",
            "Requirement already satisfied: multidict<7.0,>=4.5 in /usr/local/lib/python3.11/dist-packages (from aiohttp<4,>=3.8.6->llama-index-core>=0.12.0->llama-cloud-services>=0.6.35->llama-parse) (6.4.4)\n",
            "Requirement already satisfied: propcache>=0.2.0 in /usr/local/lib/python3.11/dist-packages (from aiohttp<4,>=3.8.6->llama-index-core>=0.12.0->llama-cloud-services>=0.6.35->llama-parse) (0.3.2)\n",
            "Requirement already satisfied: yarl<2.0,>=1.17.0 in /usr/local/lib/python3.11/dist-packages (from aiohttp<4,>=3.8.6->llama-index-core>=0.12.0->llama-cloud-services>=0.6.35->llama-parse) (1.20.1)\n",
            "Requirement already satisfied: griffe in /usr/local/lib/python3.11/dist-packages (from banks<3,>=2.0.0->llama-index-core>=0.12.0->llama-cloud-services>=0.6.35->llama-parse) (1.7.3)\n",
            "Requirement already satisfied: jinja2 in /usr/local/lib/python3.11/dist-packages (from banks<3,>=2.0.0->llama-index-core>=0.12.0->llama-cloud-services>=0.6.35->llama-parse) (3.1.6)\n",
            "Requirement already satisfied: anyio in /usr/local/lib/python3.11/dist-packages (from httpx>=0.20.0->llama-cloud==0.1.27->llama-cloud-services>=0.6.35->llama-parse) (4.9.0)\n",
            "Requirement already satisfied: httpcore==1.* in /usr/local/lib/python3.11/dist-packages (from httpx>=0.20.0->llama-cloud==0.1.27->llama-cloud-services>=0.6.35->llama-parse) (1.0.9)\n",
            "Requirement already satisfied: idna in /usr/local/lib/python3.11/dist-packages (from httpx>=0.20.0->llama-cloud==0.1.27->llama-cloud-services>=0.6.35->llama-parse) (3.10)\n",
            "Requirement already satisfied: h11>=0.16 in /usr/local/lib/python3.11/dist-packages (from httpcore==1.*->httpx>=0.20.0->llama-cloud==0.1.27->llama-cloud-services>=0.6.35->llama-parse) (0.16.0)\n",
            "Requirement already satisfied: llama-index-instrumentation>=0.1.0 in /usr/local/lib/python3.11/dist-packages (from llama-index-workflows>=0.2.1->llama-index-core>=0.12.0->llama-cloud-services>=0.6.35->llama-parse) (0.2.0)\n",
            "Requirement already satisfied: joblib in /usr/local/lib/python3.11/dist-packages (from nltk>3.8.1->llama-index-core>=0.12.0->llama-cloud-services>=0.6.35->llama-parse) (1.5.1)\n",
            "Requirement already satisfied: regex>=2021.8.3 in /usr/local/lib/python3.11/dist-packages (from nltk>3.8.1->llama-index-core>=0.12.0->llama-cloud-services>=0.6.35->llama-parse) (2024.11.6)\n",
            "Requirement already satisfied: charset-normalizer<4,>=2 in /usr/local/lib/python3.11/dist-packages (from requests>=2.31.0->llama-index-core>=0.12.0->llama-cloud-services>=0.6.35->llama-parse) (3.4.2)\n",
            "Requirement already satisfied: urllib3<3,>=1.21.1 in /usr/local/lib/python3.11/dist-packages (from requests>=2.31.0->llama-index-core>=0.12.0->llama-cloud-services>=0.6.35->llama-parse) (2.4.0)\n",
            "Requirement already satisfied: greenlet>=1 in /usr/local/lib/python3.11/dist-packages (from sqlalchemy>=1.4.49->sqlalchemy[asyncio]>=1.4.49->llama-index-core>=0.12.0->llama-cloud-services>=0.6.35->llama-parse) (3.2.3)\n",
            "Requirement already satisfied: mypy-extensions>=0.3.0 in /usr/local/lib/python3.11/dist-packages (from typing-inspect>=0.8.0->llama-index-core>=0.12.0->llama-cloud-services>=0.6.35->llama-parse) (1.1.0)\n",
            "Requirement already satisfied: marshmallow<4.0.0,>=3.18.0 in /usr/local/lib/python3.11/dist-packages (from dataclasses-json->llama-index-core>=0.12.0->llama-cloud-services>=0.6.35->llama-parse) (3.26.1)\n",
            "Requirement already satisfied: packaging>=17.0 in /usr/local/lib/python3.11/dist-packages (from marshmallow<4.0.0,>=3.18.0->dataclasses-json->llama-index-core>=0.12.0->llama-cloud-services>=0.6.35->llama-parse) (25.0)\n",
            "Requirement already satisfied: sniffio>=1.1 in /usr/local/lib/python3.11/dist-packages (from anyio->httpx>=0.20.0->llama-cloud==0.1.27->llama-cloud-services>=0.6.35->llama-parse) (1.3.1)\n",
            "Requirement already satisfied: colorama>=0.4 in /usr/local/lib/python3.11/dist-packages (from griffe->banks<3,>=2.0.0->llama-index-core>=0.12.0->llama-cloud-services>=0.6.35->llama-parse) (0.4.6)\n",
            "Requirement already satisfied: MarkupSafe>=2.0 in /usr/local/lib/python3.11/dist-packages (from jinja2->banks<3,>=2.0.0->llama-index-core>=0.12.0->llama-cloud-services>=0.6.35->llama-parse) (3.0.2)\n"
          ]
        }
      ],
      "source": [
        "%pip install llama-parse"
      ]
    },
    {
      "cell_type": "code",
      "source": [
        "import nest_asyncio\n",
        "\n",
        "nest_asyncio.apply()"
      ],
      "metadata": {
        "id": "GCuDYLOrmCvc"
      },
      "execution_count": null,
      "outputs": []
    },
    {
      "cell_type": "code",
      "source": [
        "import os\n",
        "\n",
        "os.environ[\"LLAMA_CLOUD_API_KEY\"] = \"LLAMA_CLOUD_API_KEY HERE\""
      ],
      "metadata": {
        "id": "DZWqfshomkhL"
      },
      "execution_count": null,
      "outputs": []
    },
    {
      "cell_type": "code",
      "source": [
        "from llama_parse import LlamaParse\n",
        "# For this example, we are parsing the NESC codebook, which resides in the location \"/content/NESC C2-2017 1.pdf\"\n",
        "parsed_documents = LlamaParse(result_type=\"markdown\").load_data(\"/content/NESC C2-2017 1.pdf\")"
      ],
      "metadata": {
        "colab": {
          "base_uri": "https://localhost:8080/"
        },
        "id": "5ee2arm6mqX6",
        "outputId": "f7738cee-b2f4-4913-f958-e461e5a22482"
      },
      "execution_count": null,
      "outputs": [
        {
          "output_type": "stream",
          "name": "stdout",
          "text": [
            "Started parsing the file under job_id 13087214-4d4d-4282-bc2a-e5a3f38bbc14\n"
          ]
        }
      ]
    },
    {
      "cell_type": "code",
      "source": [
        "with open('NESC C2-2017.md', 'w') as f:\n",
        "    for doc in parsed_documents:\n",
        "        f.write(doc.text + '\\n')"
      ],
      "metadata": {
        "id": "7NhWa2ZQm3_a"
      },
      "execution_count": null,
      "outputs": []
    }
  ]
}